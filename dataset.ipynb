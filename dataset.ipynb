{
 "cells": [
  {
   "cell_type": "code",
   "execution_count": 2,
   "id": "bfbde0db",
   "metadata": {},
   "outputs": [
    {
     "name": "stdout",
     "output_type": "stream",
     "text": [
      "Hello world\n"
     ]
    }
   ],
   "source": [
    "print(\"Hello world\")"
   ]
  },
  {
   "cell_type": "code",
   "execution_count": null,
   "id": "c38d50e0",
   "metadata": {},
   "outputs": [
    {
     "name": "stderr",
     "output_type": "stream",
     "text": [
      "Generating train split: 100%|██████████| 116722/116722 [00:00<00:00, 320952.35 examples/s]\n",
      "Generating test split: 100%|██████████| 6553/6553 [00:00<00:00, 342640.80 examples/s]\n",
      "Generating valid split: 100%|██████████| 6447/6447 [00:00<00:00, 320824.32 examples/s]\n"
     ]
    },
    {
     "name": "stdout",
     "output_type": "stream",
     "text": [
      "{'prompt': \"SUBREDDIT: r/relationships\\nTITLE: I (f/22) have to figure out if I want to still know these girls or not and would hate to sound insulting\\nPOST: Not sure if this belongs here but it's worth a try. \\n\\nBackstory:\\nWhen I (f/22) went through my first real breakup 2 years ago because he needed space after a year of dating roand  it effected me more than I thought. It was a horrible time in my life due to living with my mother and finally having the chance to cut her out of my life. I can admit because of it was an emotional wreck and this guy was stable and didn't know how to deal with me. We ended by him avoiding for a month or so after going to a festival with my friends. When I think back I wish he just ended. So after he ended it added my depression I suffered but my friends helped me through it and I got rid of everything from him along with cutting contact. \\n\\nNow: Its been almost 3 years now and I've gotten better after counselling and mild anti depressants. My mother has been out of my life since then so there's been alot of progress. Being stronger after learning some lessons there been more insight about that time of my life but when I see him or a picture everything comes back. The emotions and memories bring me back down. \\n\\nHis friends (both girls) are on my facebook because we get along well which is hard to find and I know they'll always have his back. But seeing him in a picture or talking to him at a convention having a conversation is tough. Crying confront of my current boyfriend is something I want to avoid. \\n\\nSo I've been thinking that I have to cut contact with these girls because it's time to move on because it's healthier. It's best to avoid him as well. But will they be insulted? Will they accept it? Is there going to be awkwardness? I'm not sure if it's the right to do and could use some outside opinions.\\nTL;DR: \", 'label': \"I still have contact with an old ex's friends but can't stand to see or talk to him. His friends are really nice ,so how do I tell them I possibly want to unfriend them on Facebook because of him?\"}\n"
     ]
    }
   ],
   "source": [
    "from datasets import load_dataset\n",
    "tldr_dataset = load_dataset(\"CarperAI/openai_summarize_tldr\")\n",
    "print(tldr_dataset['train'][0])"
   ]
  },
  {
   "cell_type": "code",
   "execution_count": null,
   "id": "3767077f",
   "metadata": {},
   "outputs": [
    {
     "name": "stdout",
     "output_type": "stream",
     "text": [
      "DatasetDict({\n",
      "    train: Dataset({\n",
      "        features: ['prompt', 'label'],\n",
      "        num_rows: 116722\n",
      "    })\n",
      "    test: Dataset({\n",
      "        features: ['prompt', 'label'],\n",
      "        num_rows: 6553\n",
      "    })\n",
      "    valid: Dataset({\n",
      "        features: ['prompt', 'label'],\n",
      "        num_rows: 6447\n",
      "    })\n",
      "})\n"
     ]
    }
   ],
   "source": [
    "print(tldr_dataset)"
   ]
  },
  {
   "cell_type": "code",
   "execution_count": 5,
   "id": "e60a2a8d",
   "metadata": {},
   "outputs": [
    {
     "name": "stderr",
     "output_type": "stream",
     "text": [
      "Generating train split: 100%|██████████| 92534/92534 [00:00<00:00, 643813.23 examples/s]\n",
      "Generating test split: 100%|██████████| 83629/83629 [00:00<00:00, 596744.88 examples/s]\n",
      "Generating valid1 split: 100%|██████████| 33082/33082 [00:00<00:00, 567553.16 examples/s]\n",
      "Generating valid2 split: 100%|██████████| 50715/50715 [00:00<00:00, 593207.51 examples/s]\n"
     ]
    },
    {
     "name": "stdout",
     "output_type": "stream",
     "text": [
      "{'prompt': 'SUBREDDIT: r/relationships\\nTITLE: To admit or not to admit snooping...\\nPOST: I [25M] have snooped in the past and copped up to it to my gf [25F] of 6 years.  We talked it through.  It had been a year or two since the last time.  That\\'s an issue I\\'m working on.\\n\\nNow she has a new close male work friend.  I won\\'t go into details, but she hides things from me with him and does other things to make me a bit suspicious.  So...I snooped again, and this time, all texts from her new friend have been deleted and I saw a google search for \"how to get over a guy\" near some searches of his name and views of his Facebook profile.\\n\\nI asked her about this guy, not mentioning the snooping, and she denied any feelings, we talked for a long time about our relationship and she insisted that she only loves me and I mean the world to her, and that she really wants to work towards getting this relationship back out of the rut we\\'ve been in (we both work all the time and barely see each other).\\n\\nI think if I cop to the snooping, we might have a more honest conversation about what\\'s actually going on (if something is) and why she\\'s having these feelings so we can either work through it together (my preference) or move on.  But obviously, it will open the pandora\\'s box of the snooping.\\n\\nThink it\\'s worth it to admit to the snooping to hopefully get to the bottom of this?', 'chosen': 'TL;DR:  Snooped, found something, should I admit what I found so we can have a more honest conversation about it with less denial on her part?', 'rejected': \"TL;DR:  I snooped, we talked about it, she wants to work it out, I'm not sure.  Is the snooping worth it?\"}\n"
     ]
    }
   ],
   "source": [
    "comparison_dataset = load_dataset(\"CarperAI/openai_summarize_comparisons\")\n",
    "print(comparison_dataset['train'][0])"
   ]
  },
  {
   "cell_type": "code",
   "execution_count": 6,
   "id": "18e6f168",
   "metadata": {},
   "outputs": [
    {
     "name": "stdout",
     "output_type": "stream",
     "text": [
      "DatasetDict({\n",
      "    train: Dataset({\n",
      "        features: ['prompt', 'chosen', 'rejected'],\n",
      "        num_rows: 92534\n",
      "    })\n",
      "    test: Dataset({\n",
      "        features: ['prompt', 'chosen', 'rejected'],\n",
      "        num_rows: 83629\n",
      "    })\n",
      "    valid1: Dataset({\n",
      "        features: ['prompt', 'chosen', 'rejected'],\n",
      "        num_rows: 33082\n",
      "    })\n",
      "    valid2: Dataset({\n",
      "        features: ['prompt', 'chosen', 'rejected'],\n",
      "        num_rows: 50715\n",
      "    })\n",
      "})\n"
     ]
    }
   ],
   "source": [
    "print(comparison_dataset)"
   ]
  },
  {
   "cell_type": "code",
   "execution_count": null,
   "id": "d9ac88f0",
   "metadata": {},
   "outputs": [],
   "source": []
  }
 ],
 "metadata": {
  "kernelspec": {
   "display_name": "mlx-summariser",
   "language": "python",
   "name": "python3"
  },
  "language_info": {
   "codemirror_mode": {
    "name": "ipython",
    "version": 3
   },
   "file_extension": ".py",
   "mimetype": "text/x-python",
   "name": "python",
   "nbconvert_exporter": "python",
   "pygments_lexer": "ipython3",
   "version": "3.10.13"
  }
 },
 "nbformat": 4,
 "nbformat_minor": 5
}
